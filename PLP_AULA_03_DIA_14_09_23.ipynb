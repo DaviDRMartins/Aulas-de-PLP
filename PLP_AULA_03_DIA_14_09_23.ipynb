{
  "nbformat": 4,
  "nbformat_minor": 0,
  "metadata": {
    "colab": {
      "provenance": [],
      "authorship_tag": "ABX9TyMXuTAVt0UAdFqXhDWwViYO",
      "include_colab_link": true
    },
    "kernelspec": {
      "name": "python3",
      "display_name": "Python 3"
    },
    "language_info": {
      "name": "python"
    }
  },
  "cells": [
    {
      "cell_type": "markdown",
      "metadata": {
        "id": "view-in-github",
        "colab_type": "text"
      },
      "source": [
        "<a href=\"https://colab.research.google.com/github/DaviDRMartins/Aulas-de-PLP/blob/main/PLP_AULA_03_DIA_14_09_23.ipynb\" target=\"_parent\"><img src=\"https://colab.research.google.com/assets/colab-badge.svg\" alt=\"Open In Colab\"/></a>"
      ]
    },
    {
      "cell_type": "markdown",
      "source": [
        "Crie um código que lê um vetor de 8 posições e, em seguida, lê 2 valores X e Y quaisquer correpondentes no vetor. O programa então imprime a soma dos valores encontrados nas respectivas posições X e Y."
      ],
      "metadata": {
        "id": "nMaktJm1d214"
      }
    },
    {
      "cell_type": "code",
      "execution_count": null,
      "metadata": {
        "colab": {
          "base_uri": "https://localhost:8080/"
        },
        "id": "8vZttLQbZZD0",
        "outputId": "d3efe109-9a53-4f23-ccc6-573c80248c95"
      },
      "outputs": [
        {
          "output_type": "stream",
          "name": "stdout",
          "text": [
            "Digite o valor da posição 0: 5\n",
            "Digite o valor da posição 1: 2\n",
            "Digite o valor da posição 2: 3\n",
            "Digite o valor da posição 3: 7\n",
            "Digite o valor da posição 4: 6\n",
            "Digite o valor da posição 5: 4\n",
            "Digite o valor da posição 6: 5\n",
            "Digite o valor da posição 7: 2\n",
            "Digite o valor de X: 2\n",
            "Digite o valor de Y: 7\n",
            "O valor dos valores nas posições X e Y é 5.\n"
          ]
        }
      ],
      "source": [
        "#Definindo a função main.\n",
        "def main():\n",
        "\n",
        "    #Declarando um vetor de 8 posições.\n",
        "    vetor = [0] * 8\n",
        "    #Lendo os 8 valores do vetor.\n",
        "    for i in range(8):\n",
        "        vetor[i] = int(input(\"Digite o valor da posição {}: \".format(i)))\n",
        "\n",
        "    #Lendo o valor de X.\n",
        "    x = int(input(\"Digite o valor de X: \"))\n",
        "    #Lendo o valor de Y.\n",
        "    y = int(input(\"Digite o valor de Y: \"))\n",
        "\n",
        "    #A soma dos valores que estão nas posições X e Y do vetor.\n",
        "    soma = vetor[x] + vetor[y]\n",
        "\n",
        "    #Imprimindo a soma dos valores.\n",
        "    print(\"O valor dos valores nas posições X e Y é {}.\".format(soma))\n",
        "\n",
        "#Chamando a função main.\n",
        "if __name__ == \"__main__\":\n",
        "    main()"
      ]
    },
    {
      "cell_type": "markdown",
      "source": [
        "Faça um programa em Python que receba um usuário, um vetor com 10 posições. Em seguida devera ser impresso o maior e o menor elemento do vetor."
      ],
      "metadata": {
        "id": "IcsWECF4jge1"
      }
    },
    {
      "cell_type": "code",
      "source": [
        "#Definindo a função main.\n",
        "def main():\n",
        "    #Declarando um vetor sem uma quantidade de posições definidas.\n",
        "    vetor = []\n",
        "\n",
        "    #Lendo os 10 valores do vetor.\n",
        "    for i in range(10):\n",
        "        vetor.append(int(input(\"Digite o valor do elemento %d: \" % (i + 1))))\n",
        "\n",
        "    #Declarando a variável que vai mostrar o maior valor do vetor.\n",
        "    maior = vetor[0]\n",
        "    #Declarando a variável que vai mostrar o menor valor do vetor.\n",
        "    menor = vetor[0]\n",
        "    #Declarando a variável que vai somar os valores do vetor.\n",
        "    soma_valores = 0\n",
        "    #Declarando o contador que irá contar quantos número maiores ou iguais a 5 existem no vetor.\n",
        "    cont_maior_5 = 0\n",
        "\n",
        "    #Loop para verificar os valores dentro do vetor.\n",
        "    for i in range(0, len(vetor)):\n",
        "\n",
        "        #Adicionando na váriavel soma_valores o valor de cada elemento do vetor.\n",
        "        soma_valores = soma_valores + vetor[i]\n",
        "\n",
        "        #Verificando se o valor do elemento do vetor é maior ou igual a 5.\n",
        "        if vetor[i] >= 5:\n",
        "            #Adicionando + 1 ao contador de números maiores ou iguais a 5.\n",
        "            cont_maior_5 = cont_maior_5 + 1\n",
        "\n",
        "        #Verificando se o valor do elemento do vetor é maior que o valor que está na variável maior.\n",
        "        if vetor[i] > maior:\n",
        "            #A variável maior recebe o valor que está passando pelo loop.\n",
        "            maior = vetor[i]\n",
        "        #Verificando se o valor do elemento do vetor é menor que o valor que está na variável menor.\n",
        "        elif vetor[i] < menor:\n",
        "            #A variável menor recebe o valor que está passando pelo loop.\n",
        "            menor = vetor[i]\n",
        "\n",
        "    #Calculando a média dos valores dos elementos do vetor.\n",
        "    media_valores = soma_valores / len(vetor)\n",
        "\n",
        "    #Imprimindo o valor do Maior elemento do vetor.\n",
        "    print(\"O maior valor é: {}\".format(maior))\n",
        "    #Imprimindo o valor do Menor elemento do vetor.\n",
        "    print(\"O menor valor é: {}\".format(menor))\n",
        "    #Imprimindo a Soma de todos os elementos do vetor.\n",
        "    print(\"A soma de todos os valores do vetor é: {}\".format(soma_valores))\n",
        "    #Imprimindo a Média de todos os elementos do vetor.\n",
        "    print(\"A média de todos os valores do vetor é: {}\".format(media_valores))\n",
        "    #Imprimindo a quantidade de elementos do vetor que tem valor maior ou igual a 5.\n",
        "    print(\"A quantidade de valores do vetor maiores ou iguais a 5: {}\".format(cont_maior_5))\n",
        "\n",
        "#Chamando a função main\n",
        "if __name__ == \"__main__\":\n",
        "    main()"
      ],
      "metadata": {
        "colab": {
          "base_uri": "https://localhost:8080/"
        },
        "id": "xOdalNqJjuOK",
        "outputId": "6a86ad5b-9a5f-4f56-dc97-378bd26aef83"
      },
      "execution_count": null,
      "outputs": [
        {
          "output_type": "stream",
          "name": "stdout",
          "text": [
            "Digite o valor do elemento 1: 15\n",
            "Digite o valor do elemento 2: 3\n",
            "Digite o valor do elemento 3: 2\n",
            "Digite o valor do elemento 4: 0\n",
            "Digite o valor do elemento 5: 4\n",
            "Digite o valor do elemento 6: 8\n",
            "Digite o valor do elemento 7: 7\n",
            "Digite o valor do elemento 8: 5\n",
            "Digite o valor do elemento 9: 6\n",
            "Digite o valor do elemento 10: 1\n",
            "O maior valor é: 15\n",
            "O menor valor é: 0\n",
            "A soma de todos os valores do vetor é: 51\n",
            "A média de todos os valores do vetor é: 5.1\n",
            "A quantidade de valores do vetor maiores ou iguais a 5: 5\n"
          ]
        }
      ]
    },
    {
      "cell_type": "markdown",
      "source": [
        "Faça um programa em Python que receba do usuario dois vetores, A e B, com 10 numeros inteiros cada. Crie um novo vetor denominado C calculando C = A - B. Mostre na tela os dados\n",
        "do vetor C."
      ],
      "metadata": {
        "id": "nrAi7h8uhsMZ"
      }
    },
    {
      "cell_type": "code",
      "source": [
        "def main():\n",
        "    vetor_a = []\n",
        "    vetor_b = []\n",
        "    vetor_c = []\n",
        "\n",
        "    for i in range(10):\n",
        "        vetor_a.append(int(input(\"Digite o elemento %d do vetor A: \" % i)))\n",
        "        vetor_b.append(int(input(\"Digite o elemento %d do vetor B: \" % i)))\n",
        "\n",
        "    for i in range(10):\n",
        "        vetor_c.append(vetor_a[i] - vetor_b[i])\n",
        "\n",
        "    print(\"Vetor C:\")\n",
        "    for i in range(10):\n",
        "        print(vetor_c[i])\n",
        "\n",
        "\n",
        "if __name__ == \"__main__\":\n",
        "    main()"
      ],
      "metadata": {
        "colab": {
          "base_uri": "https://localhost:8080/"
        },
        "id": "5ksyKa87hxhQ",
        "outputId": "dabf6493-9197-4f90-8648-aa0f31b3fd53"
      },
      "execution_count": 2,
      "outputs": [
        {
          "output_type": "stream",
          "name": "stdout",
          "text": [
            "Digite o elemento 0 do vetor A: 5\n",
            "Digite o elemento 0 do vetor B: 2\n",
            "Digite o elemento 1 do vetor A: 1\n",
            "Digite o elemento 1 do vetor B: 9\n",
            "Digite o elemento 2 do vetor A: 6\n",
            "Digite o elemento 2 do vetor B: 4\n",
            "Digite o elemento 3 do vetor A: 3\n",
            "Digite o elemento 3 do vetor B: 7\n",
            "Digite o elemento 4 do vetor A: 8\n",
            "Digite o elemento 4 do vetor B: 2\n",
            "Digite o elemento 5 do vetor A: 0\n",
            "Digite o elemento 5 do vetor B: 5\n",
            "Digite o elemento 6 do vetor A: 5\n",
            "Digite o elemento 6 do vetor B: 6\n",
            "Digite o elemento 7 do vetor A: 5\n",
            "Digite o elemento 7 do vetor B: 5\n",
            "Digite o elemento 8 do vetor A: 9\n",
            "Digite o elemento 8 do vetor B: 8\n",
            "Digite o elemento 9 do vetor A: 2\n",
            "Digite o elemento 9 do vetor B: 6\n",
            "Vetor C:\n",
            "3\n",
            "-8\n",
            "2\n",
            "-4\n",
            "6\n",
            "-5\n",
            "-1\n",
            "0\n",
            "1\n",
            "-4\n"
          ]
        }
      ]
    },
    {
      "cell_type": "markdown",
      "source": [
        "Faça um programa em Python que receba 6 numeros inteiros e mostre:\n",
        "\n",
        " • Os números pares digitados.\n",
        "\n",
        " • A soma dos números pares digitados.\n",
        "\n",
        " • Os números impares digitados.\n",
        "\n",
        " • A quantidade de números  impares."
      ],
      "metadata": {
        "id": "bRQpiGPJgsLZ"
      }
    },
    {
      "cell_type": "code",
      "source": [
        "def main():\n",
        "    numeros = []\n",
        "    numeros_pares = []\n",
        "    numeros_impares = []\n",
        "    soma_pares = 0\n",
        "\n",
        "    for i in range(6):\n",
        "        numeros.append(int(input(\"Digite um número: \")))\n",
        "\n",
        "    for numero in numeros:\n",
        "        if numero % 2 == 0:\n",
        "            numeros_pares.append(numero)\n",
        "            soma_pares += numero\n",
        "        else:\n",
        "            numeros_impares.append(numero)\n",
        "\n",
        "    print(\"Os números pares digitados são:\")\n",
        "    for numero in numeros_pares:\n",
        "        print(numero)\n",
        "\n",
        "    print(\"A soma dos números pares digitados é:\", soma_pares)\n",
        "\n",
        "    print(\"Os números ímpares digitados são:\")\n",
        "    for numero in numeros_impares:\n",
        "        print(numero)\n",
        "\n",
        "    print(\"A quantidade de números ímpares digitados é:\", len(numeros_impares))\n",
        "\n",
        "\n",
        "if __name__ == \"__main__\":\n",
        "    main()"
      ],
      "metadata": {
        "colab": {
          "base_uri": "https://localhost:8080/"
        },
        "id": "FVkRc7kcgzH-",
        "outputId": "d95fb9e3-67f3-4746-c949-ad0af5703dc4"
      },
      "execution_count": 1,
      "outputs": [
        {
          "output_type": "stream",
          "name": "stdout",
          "text": [
            "Digite um número: 5\n",
            "Digite um número: 2\n",
            "Digite um número: 3\n",
            "Digite um número: 9\n",
            "Digite um número: 8\n",
            "Digite um número: 5\n",
            "Os números pares digitados são:\n",
            "2\n",
            "8\n",
            "A soma dos números pares digitados é: 10\n",
            "Os números ímpares digitados são:\n",
            "5\n",
            "3\n",
            "9\n",
            "5\n",
            "A quantidade de números ímpares digitados é: 4\n"
          ]
        }
      ]
    }
  ]
}