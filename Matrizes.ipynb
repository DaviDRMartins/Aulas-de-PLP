{
  "nbformat": 4,
  "nbformat_minor": 0,
  "metadata": {
    "colab": {
      "provenance": [],
      "authorship_tag": "ABX9TyNASpbCYMk7/eA8bsDr1UH5",
      "include_colab_link": true
    },
    "kernelspec": {
      "name": "python3",
      "display_name": "Python 3"
    },
    "language_info": {
      "name": "python"
    }
  },
  "cells": [
    {
      "cell_type": "markdown",
      "metadata": {
        "id": "view-in-github",
        "colab_type": "text"
      },
      "source": [
        "<a href=\"https://colab.research.google.com/github/DaviDRMartins/Aulas-de-PLP/blob/main/Matrizes.ipynb\" target=\"_parent\"><img src=\"https://colab.research.google.com/assets/colab-badge.svg\" alt=\"Open In Colab\"/></a>"
      ]
    },
    {
      "cell_type": "markdown",
      "source": [
        "Matriz 1:\n",
        "\n",
        "Faça um programa em Python para gerar automaticamente numeros entre 0 e 99 de uma cartela de bingo. Sabendo que cada cartela devera conter 5 linhas de 5 numeros, gere estes dados de modo a nao ter numeros repetidos dentro das cartelas. O programa deve exibir na\n",
        "tela a cartela gerada."
      ],
      "metadata": {
        "id": "57tSahMHDWo_"
      }
    },
    {
      "cell_type": "code",
      "execution_count": 1,
      "metadata": {
        "colab": {
          "base_uri": "https://localhost:8080/"
        },
        "id": "xSD83lvA6CUP",
        "outputId": "4bebc3d1-60c5-41ab-afac-cb9b9fab51bb"
      },
      "outputs": [
        {
          "output_type": "stream",
          "name": "stdout",
          "text": [
            "Cartela de bingo:\n",
            "8\n",
            "55\n",
            "18\n",
            "82\n",
            "49\n"
          ]
        }
      ],
      "source": [
        "import random\n",
        "\n",
        "def gerar_cartela():\n",
        "    numeros = set()\n",
        "    cartela = []\n",
        "    for i in range(5):\n",
        "        numero = random.randint(0, 99)\n",
        "        while numero in numeros:\n",
        "            numero = random.randint(0, 99)\n",
        "        numeros.add(numero)\n",
        "        cartela.append(numero)\n",
        "    return cartela\n",
        "\n",
        "def main():\n",
        "    cartela = gerar_cartela()\n",
        "    print(\"Cartela de bingo:\")\n",
        "    for linha in cartela:\n",
        "        print(linha)\n",
        "\n",
        "\n",
        "if __name__ == \"__main__\":\n",
        "    main()\n"
      ]
    },
    {
      "cell_type": "markdown",
      "source": [
        "Matriz 2:\n",
        "\n",
        "Faça um Programa em Python que Leia uma matriz 10 x 3 com as notas de 10 alunos em 3 provas. Em seguida, escreva o numero de alunos cuja pior nota foi na prova 1, o número de alunos cuja pior nota foi na prova 2, e o numero de alunos cuja pior nota foi na prova 3. Em caso de empate das piores notas de um aluno, o critério de desempate e arbitrário, mas o aluno deve ser contabilizado apenas uma vez."
      ],
      "metadata": {
        "id": "xBgQaQtKcy3M"
      }
    },
    {
      "cell_type": "code",
      "source": [
        "def main():\n",
        "    matriz = []\n",
        "    for i in range(10):\n",
        "        matriz.append([int(input(\"Digite a nota do aluno %d na prova 1: \" % i)),\n",
        "                      int(input(\"Digite a nota do aluno %d na prova 2: \" % i)),\n",
        "                      int(input(\"Digite a nota do aluno %d na prova 3: \" % i))])\n",
        "\n",
        "    alunos_prova_1 = 0\n",
        "    alunos_prova_2 = 0\n",
        "    alunos_prova_3 = 0\n",
        "\n",
        "    for aluno in matriz:\n",
        "        pior_nota = aluno[0]\n",
        "        if pior_nota > aluno[1]:\n",
        "            pior_nota = aluno[1]\n",
        "        if pior_nota > aluno[2]:\n",
        "            pior_nota = aluno[2]\n",
        "\n",
        "        if pior_nota == aluno[0]:\n",
        "            alunos_prova_1 += 1\n",
        "        elif pior_nota == aluno[1]:\n",
        "            alunos_prova_2 += 1\n",
        "        else:\n",
        "            alunos_prova_3 += 1\n",
        "\n",
        "    print(\"O número de alunos cuja pior nota foi na prova 1 é:\", alunos_prova_1)\n",
        "    print(\"O número de alunos cuja pior nota foi na prova 2 é:\", alunos_prova_2)\n",
        "    print(\"O número de alunos cuja pior nota foi na prova 3 é:\", alunos_prova_3)\n",
        "\n",
        "\n",
        "if __name__ == \"__main__\":\n",
        "    main()"
      ],
      "metadata": {
        "colab": {
          "base_uri": "https://localhost:8080/"
        },
        "id": "94-JxFyCcr2f",
        "outputId": "3a984a24-ed5c-4b5d-ca7e-d5f7844cb72b"
      },
      "execution_count": 6,
      "outputs": [
        {
          "output_type": "stream",
          "name": "stdout",
          "text": [
            "Digite a nota do aluno 0 na prova 1: 2\n",
            "Digite a nota do aluno 0 na prova 2: 5\n",
            "Digite a nota do aluno 0 na prova 3: 3\n",
            "Digite a nota do aluno 1 na prova 1: 4\n",
            "Digite a nota do aluno 1 na prova 2: 9\n",
            "Digite a nota do aluno 1 na prova 3: 10\n",
            "Digite a nota do aluno 2 na prova 1: 3\n",
            "Digite a nota do aluno 2 na prova 2: 6\n",
            "Digite a nota do aluno 2 na prova 3: 5\n",
            "Digite a nota do aluno 3 na prova 1: 8\n",
            "Digite a nota do aluno 3 na prova 2: 2\n",
            "Digite a nota do aluno 3 na prova 3: 4\n",
            "Digite a nota do aluno 4 na prova 1: 6\n",
            "Digite a nota do aluno 4 na prova 2: 3\n",
            "Digite a nota do aluno 4 na prova 3: 9\n",
            "Digite a nota do aluno 5 na prova 1: 5\n",
            "Digite a nota do aluno 5 na prova 2: 2\n",
            "Digite a nota do aluno 5 na prova 3: 5\n",
            "Digite a nota do aluno 6 na prova 1: 5\n",
            "Digite a nota do aluno 6 na prova 2: 5\n",
            "Digite a nota do aluno 6 na prova 3: 5\n",
            "Digite a nota do aluno 7 na prova 1: 2\n",
            "Digite a nota do aluno 7 na prova 2: 4\n",
            "Digite a nota do aluno 7 na prova 3: 4\n",
            "Digite a nota do aluno 8 na prova 1: 8\n",
            "Digite a nota do aluno 8 na prova 2: 9\n",
            "Digite a nota do aluno 8 na prova 3: 6\n",
            "Digite a nota do aluno 9 na prova 1: 3\n",
            "Digite a nota do aluno 9 na prova 2: 2\n",
            "Digite a nota do aluno 9 na prova 3: 1\n",
            "O número de alunos cuja pior nota foi na prova 1 é: 5\n",
            "O número de alunos cuja pior nota foi na prova 2 é: 3\n",
            "O número de alunos cuja pior nota foi na prova 3 é: 2\n"
          ]
        }
      ]
    }
  ]
}