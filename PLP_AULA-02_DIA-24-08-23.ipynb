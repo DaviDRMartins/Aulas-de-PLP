{
  "nbformat": 4,
  "nbformat_minor": 0,
  "metadata": {
    "colab": {
      "provenance": [],
      "authorship_tag": "ABX9TyO3ZoXe+1VE1qqRBSHo0+G/",
      "include_colab_link": true
    },
    "kernelspec": {
      "name": "python3",
      "display_name": "Python 3"
    },
    "language_info": {
      "name": "python"
    }
  },
  "cells": [
    {
      "cell_type": "markdown",
      "metadata": {
        "id": "view-in-github",
        "colab_type": "text"
      },
      "source": [
        "<a href=\"https://colab.research.google.com/github/DaviDRMartins/Aulas-de-PLP/blob/main/PLP_02.ipynb\" target=\"_parent\"><img src=\"https://colab.research.google.com/assets/colab-badge.svg\" alt=\"Open In Colab\"/></a>"
      ]
    },
    {
      "cell_type": "markdown",
      "source": [
        "Problema: Escreva um programa para controlar uma pequena máquina resgistradora.Você deve solicitar ao usuário que digite o código do produto e quantidade comprada. Utilize a tabela de códigos a seguir para obter o preço de cada produto.\n",
        "\n",
        "Código Preço:\n",
        "*   1 = 0,50\n",
        "*   2 = 1,00\n",
        "*   3 = 4,00\n",
        "*   5 = 7,00\n",
        "*   9 = 8,00\n",
        "\n",
        "Seu programa deve exibir o total das compras depois que o usuário digitar 0. Qualquer outro código deve gerar a mensagem de erro \"Código inválido\".\n",
        "\n",
        "Resposta:"
      ],
      "metadata": {
        "id": "SbYOAVrDXaAx"
      }
    },
    {
      "cell_type": "code",
      "execution_count": 22,
      "metadata": {
        "colab": {
          "base_uri": "https://localhost:8080/"
        },
        "id": "_Jexs9ksRFo-",
        "outputId": "e0b998a2-1f88-4f58-9853-9bc9a46abc1f"
      },
      "outputs": [
        {
          "output_type": "stream",
          "name": "stdout",
          "text": [
            "Código dos Produtos: \n",
            "\t1 = 0,50 \n",
            "\t2 = 1,00 \n",
            "\t3 = 4,00 \n",
            "\t5 = 7,00 \n",
            "\t9 = 8,00\n",
            "Digite o Código do Produto ou 0 para sair: 1\n",
            "Digite a quantidade de produtos: 3\n",
            "Digite o Código do Produto ou 0 para sair: 5\n",
            "Digite a quantidade de produtos: 3\n",
            "Digite o Código do Produto ou 0 para sair: 0\n",
            "Total a pagar R$ 22.50\n"
          ]
        }
      ],
      "source": [
        "apagar = 0.0\n",
        "print(\"Código dos Produtos: \\n\\t1 = 0,50 \\n\\t2 = 1,00 \\n\\t3 = 4,00 \\n\\t5 = 7,00 \\n\\t9 = 8,00 \\n\")\n",
        "while True:\n",
        "    codigo = int(input(\"Digite o Código do Produto ou 0 para sair: \"))\n",
        "    preço = 0\n",
        "    if codigo == 0:\n",
        "        break\n",
        "    elif codigo == 1:\n",
        "        preço = 0.50\n",
        "    elif codigo == 2:\n",
        "        preço = 1.00\n",
        "    elif codigo == 3:\n",
        "        preço = 4.00\n",
        "    elif codigo == 5:\n",
        "        preço = 7.00\n",
        "    elif codigo == 9:\n",
        "        preço = 8.00\n",
        "    else:\n",
        "        print(\"Código Inválido.\")\n",
        "    if preço != 0:\n",
        "        quantidade = int(input(\"Digite a quantidade de produtos: \"))\n",
        "        apagar = apagar + (preço * quantidade)\n",
        "print(\"Total a pagar R$ %5.2f\" % apagar)"
      ]
    },
    {
      "cell_type": "code",
      "source": [],
      "metadata": {
        "id": "Gk3voV8xZihD"
      },
      "execution_count": null,
      "outputs": []
    }
  ]
}
