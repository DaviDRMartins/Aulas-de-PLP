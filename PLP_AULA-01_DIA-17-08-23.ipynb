{
  "nbformat": 4,
  "nbformat_minor": 0,
  "metadata": {
    "colab": {
      "provenance": [],
      "authorship_tag": "ABX9TyNuRYYLYVMunh6/naPTf6so",
      "include_colab_link": true
    },
    "kernelspec": {
      "name": "python3",
      "display_name": "Python 3"
    },
    "language_info": {
      "name": "python"
    }
  },
  "cells": [
    {
      "cell_type": "markdown",
      "metadata": {
        "id": "view-in-github",
        "colab_type": "text"
      },
      "source": [
        "<a href=\"https://colab.research.google.com/github/DaviDRMartins/Aulas-de-PLP/blob/main/PLP_AULA-01_DIA-17-08-23.ipynb\" target=\"_parent\"><img src=\"https://colab.research.google.com/assets/colab-badge.svg\" alt=\"Open In Colab\"/></a>"
      ]
    },
    {
      "cell_type": "markdown",
      "source": [
        "Programa 01 - Objetivo: Fazer a Leitura de duas Notas e Calcular sua Média."
      ],
      "metadata": {
        "id": "KTGzcAjKNAmR"
      }
    },
    {
      "cell_type": "code",
      "source": [
        "nota1 = float(input(\"Informe a Nota 1: \"))              #Input para pedir ao usuário que adicione o valor da Nota 1.\n",
        "nota2 = float(input(\"Informe a Nota 2: \"))              #Input para pedir ao usuário que adicione o valor da Nota2.\n",
        "Med = (nota1 + nota2) / 2                               #Calculando a Média das notas.\n",
        "print(\"A Média Final é: \", Med)                         #Mostrando ao usuário o resultado da Média das notas."
      ],
      "metadata": {
        "colab": {
          "base_uri": "https://localhost:8080/"
        },
        "id": "mFlp-RJ6NJLA",
        "outputId": "973572f0-1db5-489d-c514-ac0f4cb7a1f0"
      },
      "execution_count": null,
      "outputs": [
        {
          "output_type": "stream",
          "name": "stdout",
          "text": [
            "Informe a Nota 1: 5\n",
            "Informe a Nota 2: 9\n",
            "A Média Final é: \n",
            "7.0\n"
          ]
        }
      ]
    },
    {
      "cell_type": "markdown",
      "source": [
        "Programa 02 - Escrevendo o mesmo problema de forma Modularizada com Funções e Procedimentos."
      ],
      "metadata": {
        "id": "L1rAtX5jOVOR"
      }
    },
    {
      "cell_type": "code",
      "source": [
        "def CalculaMedia(nota1, nota2):     #Criando a função que irá calcular a Média.\n",
        "  med = (nota1 + nota2) / 2         #Calculando a Média das notas.\n",
        "  print(\"A Média Final é: \", med)   #Mostrando na tela o valor da Média.\n",
        "\n",
        "CalculaMedia(5, 9)                  #Chamando a função e defindo o valor dos parâmetros."
      ],
      "metadata": {
        "colab": {
          "base_uri": "https://localhost:8080/"
        },
        "id": "jyAAYniNOyTP",
        "outputId": "7c9021ff-4756-40ea-9313-0c11ce8fd730"
      },
      "execution_count": null,
      "outputs": [
        {
          "output_type": "stream",
          "name": "stdout",
          "text": [
            "A Média Final é:  7.0\n"
          ]
        }
      ]
    },
    {
      "cell_type": "markdown",
      "source": [
        "Programa 03 - Faça um programa que solicite o preço de uma mercadoria e o percentual de desconto. Exiba o valor do desconto e o preço a pagar.\n",
        "\n",
        "Resposta:"
      ],
      "metadata": {
        "id": "7KzynU5_R_3b"
      }
    },
    {
      "cell_type": "code",
      "source": [
        "preço = float(input(\"Digite o Preço do Produto: \"))                 #Perguntando ao cliente o preço do produto.\n",
        "desconto = float(input(\"Digite a Porcentagem de Desconto: \"))       #Perguntando ao cliente a porcentagem de desconto do produto.\n",
        "def calcular_Valor_do_Desconto(preço, desconto):                    #Função para calcular o valor do desconto.\n",
        "    valor_Desconto = preço * (desconto / 100)                       #Calculo para calcular o valor do desconto.\n",
        "    preço_com_Desconto = preço - valor_Desconto                     #Calculo para mostrar o preço final do produto com o desconto.\n",
        "    print(\"O valor do desconto é: %4.2f\" % valor_Desconto)          #Mostrando ao usuário o valor do desconto.\n",
        "    print(\"O preço com o desconto é: %5.2f\" % preço_com_Desconto)   #Mostrando ao usuário o preço final com desconto.\n",
        "\n",
        "calcular_Valor_do_Desconto(preço, desconto)                         #Chamando a função definindo os parâmetros com os valores,\n",
        "                                                                    #digitados pelo usuário."
      ],
      "metadata": {
        "id": "h7rZvOZDPXFM",
        "colab": {
          "base_uri": "https://localhost:8080/"
        },
        "outputId": "63b0a7ed-4538-4345-db49-5faf85840a0a"
      },
      "execution_count": 5,
      "outputs": [
        {
          "output_type": "stream",
          "name": "stdout",
          "text": [
            "Digite o Preço do Produto: 2500\n",
            "Digite a Porcentagem de Desconto: 40\n",
            "O valor do desconto é: 1000.00\n",
            "O preço com o desconto é: 1500.00\n"
          ]
        }
      ]
    },
    {
      "cell_type": "markdown",
      "source": [
        "Progama 04 - Escreva um progama para calcular a redução do tempo de vida de um fumante. Pergunte a quantidade de cigarros fumados por dia e quantos anos ele já fumou. Considere que um fumante perde 10 minutos de vida a cada cigarro, e calcule quantos dias de vida um fumante perderá. Exiba o total em dias.\n",
        "\n",
        "Resposta:"
      ],
      "metadata": {
        "id": "Im1J_YjxWMq9"
      }
    },
    {
      "cell_type": "code",
      "source": [
        "qnt_cigarros = float(input(\"Quantos cigarros por dia você fuma: \"))             #Pergunta a quantidade de cigarros que ele fuma.\n",
        "qnt_anos = float(input(\"Há quantos anos você fuma: \"))                          #Pergunta a quantidade de anos que ele fuma.\n",
        "redução_em_minutos = qnt_anos * 365 * qnt_cigarros * 10                         #Calcula a quantidade de vida perdida em minutos.\n",
        "\n",
        "#Um dia tem 24 x 60 minutos\n",
        "redução_em_dias = redução_em_minutos / (24 * 60)                                #Calculando quantos dias de vida foram perdidos com,\n",
        "                                                                                #base em quantos cigarros ele uma por dia.\n",
        "print(\"Redução do tempo de vida %2.2f dias.\" % redução_em_dias)                 #Mostra ao usuário quantos dias de vida ele perdeu."
      ],
      "metadata": {
        "colab": {
          "base_uri": "https://localhost:8080/"
        },
        "id": "n3YM6dLYVQhW",
        "outputId": "a0d4b8fa-35a9-4f95-a8af-e161ab05580c"
      },
      "execution_count": 6,
      "outputs": [
        {
          "output_type": "stream",
          "name": "stdout",
          "text": [
            "Quantos cigarros por dia você fuma: 2\n",
            "Há quantos anos você fuma: 2\n",
            "Redução do tempo de vida 10.14 dias.\n"
          ]
        }
      ]
    },
    {
      "cell_type": "markdown",
      "source": [],
      "metadata": {
        "id": "aXHRwAOVaOlg"
      }
    }
  ]
}