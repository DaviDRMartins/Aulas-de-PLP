{
  "nbformat": 4,
  "nbformat_minor": 0,
  "metadata": {
    "colab": {
      "provenance": [],
      "authorship_tag": "ABX9TyNFRS3GjDMURVS890n+AQnq",
      "include_colab_link": true
    },
    "kernelspec": {
      "name": "python3",
      "display_name": "Python 3"
    },
    "language_info": {
      "name": "python"
    }
  },
  "cells": [
    {
      "cell_type": "markdown",
      "metadata": {
        "id": "view-in-github",
        "colab_type": "text"
      },
      "source": [
        "<a href=\"https://colab.research.google.com/github/DaviDRMartins/Aulas-de-PLP/blob/main/Dicion%C3%A1rios.ipynb\" target=\"_parent\"><img src=\"https://colab.research.google.com/assets/colab-badge.svg\" alt=\"Open In Colab\"/></a>"
      ]
    },
    {
      "cell_type": "markdown",
      "source": [
        "Dicionário 1:\n",
        "\n",
        "Crie um dicionário que é uma agenda e coloque nele os seguintes dados: chave (cpf),\n",
        "nome, idade, telefone. O programa deve ler um número indeterminado de dados, criar a\n",
        "agenda e imprimir todos os itens do dicionário no formato chave: nome, idade, fone."
      ],
      "metadata": {
        "id": "d6aHwr--0T5a"
      }
    },
    {
      "cell_type": "code",
      "source": [
        "def main():\n",
        "    # Cria um dicionário vazio\n",
        "    agenda = {}\n",
        "\n",
        "    # Lê os dados da agenda\n",
        "    while True:\n",
        "        cpf = input(\"Digite o CPF: \")\n",
        "        nome = input(\"Digite o nome: \")\n",
        "        idade = input(\"Digite a idade: \")\n",
        "        telefone = input(\"Digite o telefone: \")\n",
        "\n",
        "        # Adiciona os dados ao dicionário\n",
        "        agenda[cpf] = {\n",
        "            \"nome\": nome,\n",
        "            \"idade\": idade,\n",
        "            \"telefone\": telefone,\n",
        "        }\n",
        "\n",
        "        # Pergunta se o usuário deseja continuar\n",
        "        continuar = input(\"Deseja continuar? (s/n): \")\n",
        "        if continuar != \"s\":\n",
        "            break\n",
        "\n",
        "    # Imprime os itens do dicionário\n",
        "    print(\"---------- Sua Lista de Contatos ----------\")\n",
        "    for cpf, contato in agenda.items():\n",
        "        print(\"CPF:\", cpf, \"| Nome:\", contato[\"nome\"], \"| Idade:\", contato[\"idade\"], \"| Telefone:\", contato[\"telefone\"])\n",
        "\n",
        "\n",
        "if __name__ == \"__main__\":\n",
        "    main()"
      ],
      "metadata": {
        "colab": {
          "base_uri": "https://localhost:8080/"
        },
        "id": "C7M-USJ10jne",
        "outputId": "ccb87448-02da-4878-df5d-a9f4fb7953b8"
      },
      "execution_count": 7,
      "outputs": [
        {
          "output_type": "stream",
          "name": "stdout",
          "text": [
            "Digite o CPF: 12345678910\n",
            "Digite o nome: Guiseppi\n",
            "Digite a idade: 64\n",
            "Digite o telefone: 80028922\n",
            "Deseja continuar? (s/n): s\n",
            "Digite o CPF: 10987654321\n",
            "Digite o nome: Kadura\n",
            "Digite a idade: 72\n",
            "Digite o telefone: 987654321\n",
            "Deseja continuar? (s/n): n\n",
            "---------- Sua Lista de Contatos ----------\n",
            "CPF: 12345678910 | Nome: Guiseppi | Idade: 64 | Telefone: 80028922\n",
            "CPF: 10987654321 | Nome: Kadura | Idade: 72 | Telefone: 987654321\n"
          ]
        }
      ]
    },
    {
      "cell_type": "markdown",
      "source": [
        "Dicionário 2:\n",
        "\n",
        "Construa um dicionário com nome, salariobruto, salario liquido,\n",
        "para número indeterminado de pessoas, nele será calculado o\n",
        "desconto de 8% do INSS e de 10% para IRPF. Preciso que o\n",
        "programa seja escrito na Linguagem Python de forma Otimizada."
      ],
      "metadata": {
        "id": "gUZOJ2-dzvAa"
      }
    },
    {
      "cell_type": "code",
      "execution_count": 10,
      "metadata": {
        "colab": {
          "base_uri": "https://localhost:8080/"
        },
        "id": "UjuZjxkvzsFM",
        "outputId": "33ba9d56-0350-4d69-d534-3a5ab3cc4f4c"
      },
      "outputs": [
        {
          "output_type": "stream",
          "name": "stdout",
          "text": [
            "Digite o nome: João\n",
            "Digite o salário bruto: 1320\n",
            "Deseja continuar? (s/n): s\n",
            "Digite o nome: Maurício\n",
            "Digite o salário bruto: 15000\n",
            "Deseja continuar? (s/n): n\n",
            "Nome: João | Salário Bruto: 1320.0 | Desconto de 8% do INSS: 105.60000000000001 | Desconto de 10% do IRPF: 0 | Salário Líquido: 1214.4\n",
            "Nome: Maurício | Salário Bruto: 15000.0 | Desconto de 8% do INSS: 1200.0 | Desconto de 10% do IRPF: 1500.0 | Salário Líquido: 12300.0\n"
          ]
        }
      ],
      "source": [
        "def main():\n",
        "    # Cria um dicionário vazio\n",
        "    folha_de_pagamento = {}\n",
        "\n",
        "    # Lê os dados da folha de pagamento\n",
        "    while True:\n",
        "        # Lê o nome e o salário bruto\n",
        "        nome = input(\"Digite o nome: \")\n",
        "        salario_bruto = float(input(\"Digite o salário bruto: \"))\n",
        "\n",
        "        # Calcula o desconto do INSS\n",
        "        desconto_inss = salario_bruto * 0.08\n",
        "\n",
        "        # Calcula o desconto do IRPF\n",
        "        desconto_irpf = 0\n",
        "        if salario_bruto > 1903.98:\n",
        "            desconto_irpf = salario_bruto * 0.10\n",
        "\n",
        "        # Calcula o salário líquido\n",
        "        salario_liquido = salario_bruto - desconto_inss - desconto_irpf\n",
        "\n",
        "        # Adiciona os dados ao dicionário\n",
        "        folha_de_pagamento[nome] = {\n",
        "            \"salario_bruto\": salario_bruto,\n",
        "            \"desconto_inss\": desconto_inss,\n",
        "            \"desconto_irpf\": desconto_irpf,\n",
        "            \"salario_liquido\": salario_liquido,\n",
        "        }\n",
        "\n",
        "        # Pergunta se o usuário deseja continuar\n",
        "        continuar = input(\"Deseja continuar? (s/n): \")\n",
        "        if continuar != \"s\":\n",
        "            break\n",
        "\n",
        "    # Imprime os itens do dicionário\n",
        "    for nome, dados in folha_de_pagamento.items():\n",
        "        print(\"Nome:\", nome, \"| Salário Bruto:\" , dados[\"salario_bruto\"], \"| Desconto de 8% do INSS:\", dados[\"desconto_inss\"], \"| Desconto de 10% do IRPF:\", dados[\"desconto_irpf\"], \"| Salário Líquido:\", dados[\"salario_liquido\"])\n",
        "\n",
        "\n",
        "if __name__ == \"__main__\":\n",
        "    main()"
      ]
    }
  ]
}